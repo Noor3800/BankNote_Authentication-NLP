{
  "nbformat": 4,
  "nbformat_minor": 0,
  "metadata": {
    "colab": {
      "provenance": []
    },
    "kernelspec": {
      "name": "python3",
      "display_name": "Python 3"
    },
    "language_info": {
      "name": "python"
    }
  },
  "cells": [
    {
      "cell_type": "markdown",
      "source": [
        "# **Import Libraries**"
      ],
      "metadata": {
        "id": "oal8i3QzHF_s"
      }
    },
    {
      "cell_type": "code",
      "execution_count": 31,
      "metadata": {
        "id": "ZyLDVGOwyWRX"
      },
      "outputs": [],
      "source": [
        "import numpy as np\n",
        "import pandas as pd\n",
        "import pickle\n",
        "from sklearn.preprocessing import StandardScaler\n",
        "from sklearn import svm\n",
        "from sklearn.model_selection import train_test_split\n",
        "from sklearn.metrics import accuracy_score, confusion_matrix, classification_report\n",
        "from prettytable import PrettyTable"
      ]
    },
    {
      "cell_type": "markdown",
      "source": [
        "# **Load Data**"
      ],
      "metadata": {
        "id": "rmE2IGtZIsmc"
      }
    },
    {
      "cell_type": "code",
      "source": [
        "Data = pd.read_csv('BankNote_Authentication.csv')\n",
        "print(Data)"
      ],
      "metadata": {
        "colab": {
          "base_uri": "https://localhost:8080/"
        },
        "id": "DG-C3P4yHEwv",
        "outputId": "7dd8fc7d-ac9e-44b9-fad2-60a7ef219139"
      },
      "execution_count": 6,
      "outputs": [
        {
          "output_type": "stream",
          "name": "stdout",
          "text": [
            "    variance  skewness  curtosis   entropy  class\n",
            "0    3.62160  8.666100  -2.80730 -0.446990      0\n",
            "1    4.54590  8.167400  -2.45860 -1.462100      0\n",
            "2    3.86600 -2.638300   1.92420  0.106450      0\n",
            "3    3.45660  9.522800  -4.01120 -3.594400      0\n",
            "4    0.32924 -4.455200   4.57180 -0.988800      0\n",
            "..       ...       ...       ...       ...    ...\n",
            "95  -4.29320  3.341900   0.77258 -0.997850      1\n",
            "96  -3.02650 -0.062088   0.68604 -0.055186      1\n",
            "97  -1.70150 -0.010356  -0.99337 -0.531040      1\n",
            "98  -0.64326  2.474800  -2.94520 -1.027600      1\n",
            "99  -0.86339  1.934800  -2.37290 -1.089700      1\n",
            "\n",
            "[100 rows x 5 columns]\n"
          ]
        }
      ]
    },
    {
      "cell_type": "markdown",
      "source": [
        "# **Understand the Data**"
      ],
      "metadata": {
        "id": "_Z-gF58PLmqD"
      }
    },
    {
      "cell_type": "code",
      "source": [
        "print(\"Columns:\", Data.columns)\n",
        "print(\"\\nNo of instances in data:\", Data['variance'].count())\n",
        "print(\"\\nShape:\", Data.shape)\n",
        "print(\"\\nData Types:\", Data.dtypes)\n",
        "print()\n",
        "print(\"\\nMissing values\", Data.info())"
      ],
      "metadata": {
        "colab": {
          "base_uri": "https://localhost:8080/"
        },
        "id": "4W9uFrOuJiG9",
        "outputId": "b7aaa6b3-c113-4c0e-d450-ff076e02a1c9"
      },
      "execution_count": 22,
      "outputs": [
        {
          "output_type": "stream",
          "name": "stdout",
          "text": [
            "Columns: Index(['variance', 'skewness', 'curtosis', 'entropy', 'class'], dtype='object')\n",
            "\n",
            "No of instances in data: 100\n",
            "\n",
            "Shape: (100, 5)\n",
            "\n",
            "Data Types: variance    float64\n",
            "skewness    float64\n",
            "curtosis    float64\n",
            "entropy     float64\n",
            "class         int64\n",
            "dtype: object\n",
            "\n",
            "<class 'pandas.core.frame.DataFrame'>\n",
            "RangeIndex: 100 entries, 0 to 99\n",
            "Data columns (total 5 columns):\n",
            " #   Column    Non-Null Count  Dtype  \n",
            "---  ------    --------------  -----  \n",
            " 0   variance  100 non-null    float64\n",
            " 1   skewness  100 non-null    float64\n",
            " 2   curtosis  100 non-null    float64\n",
            " 3   entropy   100 non-null    float64\n",
            " 4   class     100 non-null    int64  \n",
            "dtypes: float64(4), int64(1)\n",
            "memory usage: 4.0 KB\n",
            "\n",
            "Missing values None\n"
          ]
        }
      ]
    },
    {
      "cell_type": "markdown",
      "source": [
        "# **Preprocess the Data**\n",
        "\n",
        "\n",
        "Data is already Preprocessed so No Preprocessing needs to be Performed.\n"
      ],
      "metadata": {
        "id": "eae_90oHOAhu"
      }
    },
    {
      "cell_type": "markdown",
      "source": [
        "# **Feature Extraction**\n",
        "\n",
        "Feature extraction is already done so no further feature extraction is needed."
      ],
      "metadata": {
        "id": "o9FSqGCMO6gl"
      }
    },
    {
      "cell_type": "code",
      "source": [
        "feature_cols = ['variance', 'skewness', 'curtosis', 'entropy']\n",
        "target_col = ['class']\n",
        "\n",
        "X = Data[feature_cols]\n",
        "y = Data[target_col]\n",
        "\n",
        "print(\"Features:\",feature_cols)\n",
        "print(\"Target:\",target_col)\n",
        "print(\"\\nClass distribution:\\n\", y.value_counts())"
      ],
      "metadata": {
        "colab": {
          "base_uri": "https://localhost:8080/"
        },
        "id": "mo6CpOYPPitF",
        "outputId": "b16d2edd-7a6f-4a74-d18d-6a02b7473fa1"
      },
      "execution_count": 24,
      "outputs": [
        {
          "output_type": "stream",
          "name": "stdout",
          "text": [
            "Features: ['variance', 'skewness', 'curtosis', 'entropy']\n",
            "Target: ['class']\n",
            "\n",
            "Class distribution:\n",
            " class\n",
            "0        50\n",
            "1        50\n",
            "Name: count, dtype: int64\n"
          ]
        }
      ]
    },
    {
      "cell_type": "markdown",
      "source": [
        "# **Label Encoding**\n",
        "\n",
        "No label encoding is needed because dataset has numeric values not categorical"
      ],
      "metadata": {
        "id": "lqp2FNm8POyo"
      }
    },
    {
      "cell_type": "markdown",
      "source": [
        "# **Training Phase(Train Test Split(80-20))**"
      ],
      "metadata": {
        "id": "H_vBJsuIQDlj"
      }
    },
    {
      "cell_type": "code",
      "source": [
        "X_train, X_test, y_train, y_test = train_test_split(\n",
        "    X,\n",
        "    y,\n",
        "    test_size=0.2,\n",
        "    random_state=0,\n",
        "    shuffle=False)"
      ],
      "metadata": {
        "id": "apXjYx2wNCkz"
      },
      "execution_count": 25,
      "outputs": []
    },
    {
      "cell_type": "markdown",
      "source": [
        "**Save trainig and test data into csv files**"
      ],
      "metadata": {
        "id": "3n1DlohOSSTN"
      }
    },
    {
      "cell_type": "code",
      "source": [
        "X_train.to_csv('X_train.csv', index=False, header=True)\n",
        "X_test.to_csv('X_test.csv', index=False, header=True)\n",
        "\n",
        "y_train.to_csv('y_train.csv', index=False, header=True)\n",
        "y_test.to_csv('y_test.csv', index=False, header=True)"
      ],
      "metadata": {
        "id": "BssVW-grRXAc"
      },
      "execution_count": 26,
      "outputs": []
    },
    {
      "cell_type": "code",
      "metadata": {
        "colab": {
          "base_uri": "https://localhost:8080/"
        },
        "id": "e5e58630",
        "outputId": "8a09eb8a-7508-42e0-adde-c33557e6419d"
      },
      "source": [
        "print(\"Training Data\")\n",
        "df = pd.read_csv('X_train.csv')\n",
        "print(df)\n",
        "print(\"\\n\")\n",
        "df = pd.read_csv('y_train.csv')\n",
        "print(df)"
      ],
      "execution_count": 30,
      "outputs": [
        {
          "output_type": "stream",
          "name": "stdout",
          "text": [
            "Training Data\n",
            "    variance  skewness  curtosis  entropy\n",
            "0    3.62160    8.6661  -2.80730 -0.44699\n",
            "1    4.54590    8.1674  -2.45860 -1.46210\n",
            "2    3.86600   -2.6383   1.92420  0.10645\n",
            "3    3.45660    9.5228  -4.01120 -3.59440\n",
            "4    0.32924   -4.4552   4.57180 -0.98880\n",
            "..       ...       ...       ...      ...\n",
            "75  -2.66850  -10.4519   9.11390 -1.73230\n",
            "76  -0.47465   -4.3496   1.99010  0.75170\n",
            "77   1.05520    1.1857  -2.64110  0.11033\n",
            "78   1.16440    3.8095  -4.94080 -4.09090\n",
            "79  -4.47790    7.3708  -0.31218 -6.77540\n",
            "\n",
            "[80 rows x 4 columns]\n",
            "\n",
            "\n",
            "    class\n",
            "0       0\n",
            "1       0\n",
            "2       0\n",
            "3       0\n",
            "4       0\n",
            "..    ...\n",
            "75      1\n",
            "76      1\n",
            "77      1\n",
            "78      1\n",
            "79      1\n",
            "\n",
            "[80 rows x 1 columns]\n"
          ]
        }
      ]
    },
    {
      "cell_type": "markdown",
      "source": [
        "# **Support Vector Classification**"
      ],
      "metadata": {
        "id": "n4yCciu0Uwl9"
      }
    },
    {
      "cell_type": "markdown",
      "source": [
        "**Scaling**"
      ],
      "metadata": {
        "id": "ztii0L-FVXn5"
      }
    },
    {
      "cell_type": "code",
      "source": [
        "scaler = StandardScaler()\n",
        "X_train_scaled = scaler.fit_transform(X_train)\n",
        "X_test_scaled = scaler.transform(X_test)"
      ],
      "metadata": {
        "id": "FKN9VDxyTfK5"
      },
      "execution_count": 32,
      "outputs": []
    },
    {
      "cell_type": "code",
      "source": [
        "pickle.dump(scaler, open('scaler_banknote.pkl', 'wb'))\n",
        "print(\"Scaler saved as scaler_banknote.pkl\")"
      ],
      "metadata": {
        "colab": {
          "base_uri": "https://localhost:8080/"
        },
        "id": "znNjstCbWUum",
        "outputId": "5c1ffdd3-3682-45c6-a10f-376c6e96a568"
      },
      "execution_count": 33,
      "outputs": [
        {
          "output_type": "stream",
          "name": "stdout",
          "text": [
            "Scaler saved as scaler_banknote.pkl\n"
          ]
        }
      ]
    },
    {
      "cell_type": "code",
      "source": [
        "svc_model = svm.SVC(kernel=\"rbf\", gamma='auto', random_state=0)\n",
        "svc_model.fit(X_train_scaled, y_train.values.ravel())\n",
        "print(svc_model)"
      ],
      "metadata": {
        "colab": {
          "base_uri": "https://localhost:8080/"
        },
        "id": "09laz4U5XSMs",
        "outputId": "55e19f2a-c5e1-4ea8-e349-cd1452be081b"
      },
      "execution_count": 34,
      "outputs": [
        {
          "output_type": "stream",
          "name": "stdout",
          "text": [
            "SVC(gamma='auto', random_state=0)\n"
          ]
        }
      ]
    },
    {
      "cell_type": "markdown",
      "source": [
        "**Save the trained model**"
      ],
      "metadata": {
        "id": "6JePe983YbvS"
      }
    },
    {
      "cell_type": "code",
      "source": [
        "pickle.dump(svc_model, open('svc_trained_banknote.pkl', 'wb'))\n",
        "print(\"Model saved as svc_trained_banknote.pkl\")"
      ],
      "metadata": {
        "colab": {
          "base_uri": "https://localhost:8080/"
        },
        "id": "Ao3MF-lGYSoW",
        "outputId": "d578c0a1-916c-4ff7-8203-7daa3adc0776"
      },
      "execution_count": 35,
      "outputs": [
        {
          "output_type": "stream",
          "name": "stdout",
          "text": [
            "Model saved as svc_trained_banknote.pkl\n"
          ]
        }
      ]
    },
    {
      "cell_type": "markdown",
      "source": [
        "# **Evaluation of the model**"
      ],
      "metadata": {
        "id": "TcImD5VdYsuY"
      }
    },
    {
      "cell_type": "code",
      "source": [
        "y_pred = svc_model.predict(X_test_scaled)\n",
        "accuracy = accuracy_score(y_test, y_pred)\n",
        "\n",
        "print(\"Accuracy:\", accuracy)\n",
        "print(\"\\nClassification Report:\\n\", classification_report(y_test, y_pred))\n",
        "print(\"\\nConfusion Matrix:\\n\", confusion_matrix(y_test, y_pred))"
      ],
      "metadata": {
        "colab": {
          "base_uri": "https://localhost:8080/"
        },
        "id": "zjRzG3JJYo7_",
        "outputId": "29739c2e-e391-4891-99dc-d3c7f14a2d65"
      },
      "execution_count": 40,
      "outputs": [
        {
          "output_type": "stream",
          "name": "stdout",
          "text": [
            "Accuracy: 0.95\n",
            "\n",
            "Classification Report:\n",
            "               precision    recall  f1-score   support\n",
            "\n",
            "           0       0.00      0.00      0.00         0\n",
            "           1       1.00      0.95      0.97        20\n",
            "\n",
            "    accuracy                           0.95        20\n",
            "   macro avg       0.50      0.47      0.49        20\n",
            "weighted avg       1.00      0.95      0.97        20\n",
            "\n",
            "\n",
            "Confusion Matrix:\n",
            " [[ 0  0]\n",
            " [ 1 19]]\n"
          ]
        },
        {
          "output_type": "stream",
          "name": "stderr",
          "text": [
            "/usr/local/lib/python3.12/dist-packages/sklearn/metrics/_classification.py:1565: UndefinedMetricWarning: Recall is ill-defined and being set to 0.0 in labels with no true samples. Use `zero_division` parameter to control this behavior.\n",
            "  _warn_prf(average, modifier, f\"{metric.capitalize()} is\", len(result))\n",
            "/usr/local/lib/python3.12/dist-packages/sklearn/metrics/_classification.py:1565: UndefinedMetricWarning: Recall is ill-defined and being set to 0.0 in labels with no true samples. Use `zero_division` parameter to control this behavior.\n",
            "  _warn_prf(average, modifier, f\"{metric.capitalize()} is\", len(result))\n",
            "/usr/local/lib/python3.12/dist-packages/sklearn/metrics/_classification.py:1565: UndefinedMetricWarning: Recall is ill-defined and being set to 0.0 in labels with no true samples. Use `zero_division` parameter to control this behavior.\n",
            "  _warn_prf(average, modifier, f\"{metric.capitalize()} is\", len(result))\n"
          ]
        }
      ]
    },
    {
      "cell_type": "markdown",
      "source": [
        "**Pretty summary**"
      ],
      "metadata": {
        "id": "tuSVKzkodmT-"
      }
    },
    {
      "cell_type": "code",
      "source": [
        "summary = PrettyTable()\n",
        "summary.field_names = [\"Metric\", \"Value\"]\n",
        "summary.add_row([\"Test Accuracy\", accuracy])\n",
        "summary.add_row([\"Test Samples\", len(y_test)])\n",
        "print(\"\\nSummary:\\n\", summary)"
      ],
      "metadata": {
        "colab": {
          "base_uri": "https://localhost:8080/"
        },
        "id": "rU1FxCfFdOqO",
        "outputId": "88c6dfa7-4902-4863-ea8f-69530ba1e0ee"
      },
      "execution_count": 42,
      "outputs": [
        {
          "output_type": "stream",
          "name": "stdout",
          "text": [
            "\n",
            "Summary:\n",
            " +---------------+-------+\n",
            "|     Metric    | Value |\n",
            "+---------------+-------+\n",
            "| Test Accuracy |  0.95 |\n",
            "|  Test Samples |   20  |\n",
            "+---------------+-------+\n"
          ]
        }
      ]
    },
    {
      "cell_type": "markdown",
      "source": [
        "# **Application Phase**"
      ],
      "metadata": {
        "id": "-o-ZnbtFlM9B"
      }
    },
    {
      "cell_type": "markdown",
      "source": [
        "**Taking input and storing it into dataframe**"
      ],
      "metadata": {
        "id": "B4epK6IHlRDO"
      }
    },
    {
      "cell_type": "code",
      "source": [
        "variance_input = float(input(\"\\nEnter Variance value: \"))\n",
        "skewness_input = float(input(\"Enter Skewness value: \"))\n",
        "curtosis_input = float(input(\"Enter Curtosis value: \"))\n",
        "entropy_input = float(input(\"Enter Entropy value: \"))"
      ],
      "metadata": {
        "colab": {
          "base_uri": "https://localhost:8080/"
        },
        "id": "yWpoMVBnlO8S",
        "outputId": "4b6e4dc6-8254-4a7c-af1c-b23986217bed"
      },
      "execution_count": 44,
      "outputs": [
        {
          "name": "stdout",
          "output_type": "stream",
          "text": [
            "\n",
            "Enter Variance value: 3.6216\n",
            "Enter Skewness value: 8.6661\n",
            "Enter Curtosis value: -2.8073\n",
            "Enter Entropy value: -0.44699\n"
          ]
        }
      ]
    },
    {
      "cell_type": "code",
      "source": [
        "user_input = pd.DataFrame({\n",
        "    'variance': [variance_input],\n",
        "    'skewness': [skewness_input],\n",
        "    'curtosis': [curtosis_input],\n",
        "    'entropy': [entropy_input]\n",
        "})\n",
        "\n",
        "print(\"User input Feature vectors:\\n\")\n",
        "print( user_input)"
      ],
      "metadata": {
        "colab": {
          "base_uri": "https://localhost:8080/"
        },
        "id": "r1cYIgqWlO1K",
        "outputId": "8578635e-1445-4bf8-ed5c-400a4e581184"
      },
      "execution_count": 46,
      "outputs": [
        {
          "output_type": "stream",
          "name": "stdout",
          "text": [
            "User input Feature vectors:\n",
            "\n",
            "   variance  skewness  curtosis  entropy\n",
            "0    3.6216    8.6661   -2.8073 -0.44699\n"
          ]
        }
      ]
    },
    {
      "cell_type": "markdown",
      "source": [
        "**Load the Saved Scaler and Model**"
      ],
      "metadata": {
        "id": "ORF-wwf0ltXo"
      }
    },
    {
      "cell_type": "code",
      "source": [
        "scaler = pickle.load(open('scaler_banknote.pkl', 'rb'))\n",
        "loaded_model = pickle.load(open('svc_trained_banknote.pkl', 'rb'))"
      ],
      "metadata": {
        "id": "8S9KgJ6ZlOxw"
      },
      "execution_count": 47,
      "outputs": []
    },
    {
      "cell_type": "markdown",
      "source": [
        "**Scale the Input and Predict**"
      ],
      "metadata": {
        "id": "iI7RlTVbmDHA"
      }
    },
    {
      "cell_type": "code",
      "source": [
        "user_scaled = scaler.transform(user_input)\n",
        "\n",
        "prediction = loaded_model.predict(user_scaled)\n",
        "\n",
        "label_map = {0: \"AUTHENTIC\", 1: \"FAKE\"}\n",
        "final_prediction = label_map[int(prediction[0])]\n"
      ],
      "metadata": {
        "id": "za51butPmEta"
      },
      "execution_count": 51,
      "outputs": []
    },
    {
      "cell_type": "code",
      "source": [
        "pretty_table = PrettyTable()\n",
        "pretty_table.add_column(\"       ** Prediction **       \", [final_prediction])\n",
        "\n",
        "print(pretty_table)"
      ],
      "metadata": {
        "colab": {
          "base_uri": "https://localhost:8080/"
        },
        "id": "xNtkJ-PMmQkN",
        "outputId": "c4b10b0f-6648-44aa-955f-aa11a0da03b5"
      },
      "execution_count": 52,
      "outputs": [
        {
          "output_type": "stream",
          "name": "stdout",
          "text": [
            "+--------------------------------+\n",
            "|        ** Prediction **        |\n",
            "+--------------------------------+\n",
            "|           AUTHENTIC            |\n",
            "+--------------------------------+\n"
          ]
        }
      ]
    },
    {
      "cell_type": "markdown",
      "source": [
        "# **Conclusion**\n",
        "\n",
        "\n",
        "\n",
        "- The analysis shows that banknote authentication can be effectively determined using four statistical features: variance, skewness, curtosis, and entropy. The dataset used was already clean and preprocessed, requiring no additional feature engineering or label encoding.\n",
        "\n",
        "- Using a Support Vector Classifier (SVM), the model achieved 95% accuracy on the test set, successfully distinguishing between authentic and fake notes.\n",
        "\n",
        "- Despite the relatively small dataset size, the study highlights how machine learning techniques can provide reliable and automated solutions for fraud detection.This project demonstrates that AI-based systems can assist banks and financial institutions in real-world scenarios by enhancing the speed and reliability of banknote authentication."
      ],
      "metadata": {
        "id": "TSG6Z0_ToBkg"
      }
    }
  ]
}